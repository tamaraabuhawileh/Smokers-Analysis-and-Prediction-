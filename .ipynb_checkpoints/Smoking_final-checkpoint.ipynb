{
 "cells": [
  {
   "cell_type": "markdown",
   "metadata": {},
   "source": [
    "# Data Analysis"
   ]
  },
  {
   "cell_type": "code",
   "execution_count": 221,
   "metadata": {},
   "outputs": [],
   "source": [
    "import numpy as np\n",
    "import pandas as pd \n",
    "import seaborn as sns \n",
    "import matplotlib.pyplot as plt \n",
    "%matplotlib inline"
   ]
  },
  {
   "cell_type": "code",
   "execution_count": 222,
   "metadata": {},
   "outputs": [],
   "source": [
    "smoking = pd.read_csv('smoking.csv')"
   ]
  },
  {
   "cell_type": "code",
   "execution_count": 223,
   "metadata": {},
   "outputs": [
    {
     "data": {
      "text/html": [
       "<div>\n",
       "<style scoped>\n",
       "    .dataframe tbody tr th:only-of-type {\n",
       "        vertical-align: middle;\n",
       "    }\n",
       "\n",
       "    .dataframe tbody tr th {\n",
       "        vertical-align: top;\n",
       "    }\n",
       "\n",
       "    .dataframe thead th {\n",
       "        text-align: right;\n",
       "    }\n",
       "</style>\n",
       "<table border=\"1\" class=\"dataframe\">\n",
       "  <thead>\n",
       "    <tr style=\"text-align: right;\">\n",
       "      <th></th>\n",
       "      <th>ID</th>\n",
       "      <th>gender</th>\n",
       "      <th>age</th>\n",
       "      <th>height(cm)</th>\n",
       "      <th>weight(kg)</th>\n",
       "      <th>waist(cm)</th>\n",
       "      <th>eyesight(left)</th>\n",
       "      <th>eyesight(right)</th>\n",
       "      <th>hearing(left)</th>\n",
       "      <th>hearing(right)</th>\n",
       "      <th>...</th>\n",
       "      <th>hemoglobin</th>\n",
       "      <th>Urine protein</th>\n",
       "      <th>serum creatinine</th>\n",
       "      <th>AST</th>\n",
       "      <th>ALT</th>\n",
       "      <th>Gtp</th>\n",
       "      <th>oral</th>\n",
       "      <th>dental caries</th>\n",
       "      <th>tartar</th>\n",
       "      <th>smoking</th>\n",
       "    </tr>\n",
       "  </thead>\n",
       "  <tbody>\n",
       "    <tr>\n",
       "      <th>0</th>\n",
       "      <td>0</td>\n",
       "      <td>F</td>\n",
       "      <td>40</td>\n",
       "      <td>155</td>\n",
       "      <td>60</td>\n",
       "      <td>81.3</td>\n",
       "      <td>1.2</td>\n",
       "      <td>1.0</td>\n",
       "      <td>1.0</td>\n",
       "      <td>1.0</td>\n",
       "      <td>...</td>\n",
       "      <td>12.9</td>\n",
       "      <td>1.0</td>\n",
       "      <td>0.7</td>\n",
       "      <td>18.0</td>\n",
       "      <td>19.0</td>\n",
       "      <td>27.0</td>\n",
       "      <td>Y</td>\n",
       "      <td>0</td>\n",
       "      <td>Y</td>\n",
       "      <td>0</td>\n",
       "    </tr>\n",
       "    <tr>\n",
       "      <th>1</th>\n",
       "      <td>1</td>\n",
       "      <td>F</td>\n",
       "      <td>40</td>\n",
       "      <td>160</td>\n",
       "      <td>60</td>\n",
       "      <td>81.0</td>\n",
       "      <td>0.8</td>\n",
       "      <td>0.6</td>\n",
       "      <td>1.0</td>\n",
       "      <td>1.0</td>\n",
       "      <td>...</td>\n",
       "      <td>12.7</td>\n",
       "      <td>1.0</td>\n",
       "      <td>0.6</td>\n",
       "      <td>22.0</td>\n",
       "      <td>19.0</td>\n",
       "      <td>18.0</td>\n",
       "      <td>Y</td>\n",
       "      <td>0</td>\n",
       "      <td>Y</td>\n",
       "      <td>0</td>\n",
       "    </tr>\n",
       "    <tr>\n",
       "      <th>2</th>\n",
       "      <td>2</td>\n",
       "      <td>M</td>\n",
       "      <td>55</td>\n",
       "      <td>170</td>\n",
       "      <td>60</td>\n",
       "      <td>80.0</td>\n",
       "      <td>0.8</td>\n",
       "      <td>0.8</td>\n",
       "      <td>1.0</td>\n",
       "      <td>1.0</td>\n",
       "      <td>...</td>\n",
       "      <td>15.8</td>\n",
       "      <td>1.0</td>\n",
       "      <td>1.0</td>\n",
       "      <td>21.0</td>\n",
       "      <td>16.0</td>\n",
       "      <td>22.0</td>\n",
       "      <td>Y</td>\n",
       "      <td>0</td>\n",
       "      <td>N</td>\n",
       "      <td>1</td>\n",
       "    </tr>\n",
       "    <tr>\n",
       "      <th>3</th>\n",
       "      <td>3</td>\n",
       "      <td>M</td>\n",
       "      <td>40</td>\n",
       "      <td>165</td>\n",
       "      <td>70</td>\n",
       "      <td>88.0</td>\n",
       "      <td>1.5</td>\n",
       "      <td>1.5</td>\n",
       "      <td>1.0</td>\n",
       "      <td>1.0</td>\n",
       "      <td>...</td>\n",
       "      <td>14.7</td>\n",
       "      <td>1.0</td>\n",
       "      <td>1.0</td>\n",
       "      <td>19.0</td>\n",
       "      <td>26.0</td>\n",
       "      <td>18.0</td>\n",
       "      <td>Y</td>\n",
       "      <td>0</td>\n",
       "      <td>Y</td>\n",
       "      <td>0</td>\n",
       "    </tr>\n",
       "    <tr>\n",
       "      <th>4</th>\n",
       "      <td>4</td>\n",
       "      <td>F</td>\n",
       "      <td>40</td>\n",
       "      <td>155</td>\n",
       "      <td>60</td>\n",
       "      <td>86.0</td>\n",
       "      <td>1.0</td>\n",
       "      <td>1.0</td>\n",
       "      <td>1.0</td>\n",
       "      <td>1.0</td>\n",
       "      <td>...</td>\n",
       "      <td>12.5</td>\n",
       "      <td>1.0</td>\n",
       "      <td>0.6</td>\n",
       "      <td>16.0</td>\n",
       "      <td>14.0</td>\n",
       "      <td>22.0</td>\n",
       "      <td>Y</td>\n",
       "      <td>0</td>\n",
       "      <td>N</td>\n",
       "      <td>0</td>\n",
       "    </tr>\n",
       "  </tbody>\n",
       "</table>\n",
       "<p>5 rows × 27 columns</p>\n",
       "</div>"
      ],
      "text/plain": [
       "   ID gender  age  height(cm)  weight(kg)  waist(cm)  eyesight(left)  \\\n",
       "0   0      F   40         155          60       81.3             1.2   \n",
       "1   1      F   40         160          60       81.0             0.8   \n",
       "2   2      M   55         170          60       80.0             0.8   \n",
       "3   3      M   40         165          70       88.0             1.5   \n",
       "4   4      F   40         155          60       86.0             1.0   \n",
       "\n",
       "   eyesight(right)  hearing(left)  hearing(right)  ...  hemoglobin  \\\n",
       "0              1.0            1.0             1.0  ...        12.9   \n",
       "1              0.6            1.0             1.0  ...        12.7   \n",
       "2              0.8            1.0             1.0  ...        15.8   \n",
       "3              1.5            1.0             1.0  ...        14.7   \n",
       "4              1.0            1.0             1.0  ...        12.5   \n",
       "\n",
       "   Urine protein  serum creatinine   AST   ALT   Gtp  oral  dental caries  \\\n",
       "0            1.0               0.7  18.0  19.0  27.0     Y              0   \n",
       "1            1.0               0.6  22.0  19.0  18.0     Y              0   \n",
       "2            1.0               1.0  21.0  16.0  22.0     Y              0   \n",
       "3            1.0               1.0  19.0  26.0  18.0     Y              0   \n",
       "4            1.0               0.6  16.0  14.0  22.0     Y              0   \n",
       "\n",
       "   tartar  smoking  \n",
       "0       Y        0  \n",
       "1       Y        0  \n",
       "2       N        1  \n",
       "3       Y        0  \n",
       "4       N        0  \n",
       "\n",
       "[5 rows x 27 columns]"
      ]
     },
     "execution_count": 223,
     "metadata": {},
     "output_type": "execute_result"
    }
   ],
   "source": [
    "smoking.head()"
   ]
  },
  {
   "cell_type": "code",
   "execution_count": 224,
   "metadata": {},
   "outputs": [],
   "source": [
    "X_train = pd.read_csv('x_train.csv')\n",
    "X_test = pd.read_csv('x_test.csv')\n",
    "y_train = pd.read_csv('y_train.csv')\n",
    "y_test = pd.read_csv('y_test.csv')\n",
    "#Imorting the competition format gives better accuracy"
   ]
  },
  {
   "cell_type": "code",
   "execution_count": 225,
   "metadata": {},
   "outputs": [],
   "source": [
    "smoking.drop('ID',axis=1,inplace=True)\n",
    "#No need for id column"
   ]
  },
  {
   "cell_type": "code",
   "execution_count": 226,
   "metadata": {},
   "outputs": [
    {
     "name": "stdout",
     "output_type": "stream",
     "text": [
      "<class 'pandas.core.frame.DataFrame'>\n",
      "RangeIndex: 55692 entries, 0 to 55691\n",
      "Data columns (total 26 columns):\n",
      " #   Column               Non-Null Count  Dtype  \n",
      "---  ------               --------------  -----  \n",
      " 0   gender               55692 non-null  object \n",
      " 1   age                  55692 non-null  int64  \n",
      " 2   height(cm)           55692 non-null  int64  \n",
      " 3   weight(kg)           55692 non-null  int64  \n",
      " 4   waist(cm)            55692 non-null  float64\n",
      " 5   eyesight(left)       55692 non-null  float64\n",
      " 6   eyesight(right)      55692 non-null  float64\n",
      " 7   hearing(left)        55692 non-null  float64\n",
      " 8   hearing(right)       55692 non-null  float64\n",
      " 9   systolic             55692 non-null  float64\n",
      " 10  relaxation           55692 non-null  float64\n",
      " 11  fasting blood sugar  55692 non-null  float64\n",
      " 12  Cholesterol          55692 non-null  float64\n",
      " 13  triglyceride         55692 non-null  float64\n",
      " 14  HDL                  55692 non-null  float64\n",
      " 15  LDL                  55692 non-null  float64\n",
      " 16  hemoglobin           55692 non-null  float64\n",
      " 17  Urine protein        55692 non-null  float64\n",
      " 18  serum creatinine     55692 non-null  float64\n",
      " 19  AST                  55692 non-null  float64\n",
      " 20  ALT                  55692 non-null  float64\n",
      " 21  Gtp                  55692 non-null  float64\n",
      " 22  oral                 55692 non-null  object \n",
      " 23  dental caries        55692 non-null  int64  \n",
      " 24  tartar               55692 non-null  object \n",
      " 25  smoking              55692 non-null  int64  \n",
      "dtypes: float64(18), int64(5), object(3)\n",
      "memory usage: 11.0+ MB\n"
     ]
    }
   ],
   "source": [
    "smoking.info()"
   ]
  },
  {
   "cell_type": "code",
   "execution_count": 227,
   "metadata": {},
   "outputs": [
    {
     "data": {
      "text/html": [
       "<div>\n",
       "<style scoped>\n",
       "    .dataframe tbody tr th:only-of-type {\n",
       "        vertical-align: middle;\n",
       "    }\n",
       "\n",
       "    .dataframe tbody tr th {\n",
       "        vertical-align: top;\n",
       "    }\n",
       "\n",
       "    .dataframe thead th {\n",
       "        text-align: right;\n",
       "    }\n",
       "</style>\n",
       "<table border=\"1\" class=\"dataframe\">\n",
       "  <thead>\n",
       "    <tr style=\"text-align: right;\">\n",
       "      <th></th>\n",
       "      <th>age</th>\n",
       "      <th>height(cm)</th>\n",
       "      <th>weight(kg)</th>\n",
       "      <th>waist(cm)</th>\n",
       "      <th>eyesight(left)</th>\n",
       "      <th>eyesight(right)</th>\n",
       "      <th>hearing(left)</th>\n",
       "      <th>hearing(right)</th>\n",
       "      <th>systolic</th>\n",
       "      <th>relaxation</th>\n",
       "      <th>...</th>\n",
       "      <th>HDL</th>\n",
       "      <th>LDL</th>\n",
       "      <th>hemoglobin</th>\n",
       "      <th>Urine protein</th>\n",
       "      <th>serum creatinine</th>\n",
       "      <th>AST</th>\n",
       "      <th>ALT</th>\n",
       "      <th>Gtp</th>\n",
       "      <th>dental caries</th>\n",
       "      <th>smoking</th>\n",
       "    </tr>\n",
       "  </thead>\n",
       "  <tbody>\n",
       "    <tr>\n",
       "      <th>count</th>\n",
       "      <td>55692.000000</td>\n",
       "      <td>55692.000000</td>\n",
       "      <td>55692.000000</td>\n",
       "      <td>55692.000000</td>\n",
       "      <td>55692.000000</td>\n",
       "      <td>55692.000000</td>\n",
       "      <td>55692.000000</td>\n",
       "      <td>55692.000000</td>\n",
       "      <td>55692.000000</td>\n",
       "      <td>55692.000000</td>\n",
       "      <td>...</td>\n",
       "      <td>55692.000000</td>\n",
       "      <td>55692.000000</td>\n",
       "      <td>55692.000000</td>\n",
       "      <td>55692.000000</td>\n",
       "      <td>55692.000000</td>\n",
       "      <td>55692.000000</td>\n",
       "      <td>55692.000000</td>\n",
       "      <td>55692.000000</td>\n",
       "      <td>55692.000000</td>\n",
       "      <td>55692.000000</td>\n",
       "    </tr>\n",
       "    <tr>\n",
       "      <th>mean</th>\n",
       "      <td>44.182917</td>\n",
       "      <td>164.649321</td>\n",
       "      <td>65.864936</td>\n",
       "      <td>82.046418</td>\n",
       "      <td>1.012623</td>\n",
       "      <td>1.007443</td>\n",
       "      <td>1.025587</td>\n",
       "      <td>1.026144</td>\n",
       "      <td>121.494218</td>\n",
       "      <td>76.004830</td>\n",
       "      <td>...</td>\n",
       "      <td>57.290347</td>\n",
       "      <td>114.964501</td>\n",
       "      <td>14.622592</td>\n",
       "      <td>1.087212</td>\n",
       "      <td>0.885738</td>\n",
       "      <td>26.182935</td>\n",
       "      <td>27.036037</td>\n",
       "      <td>39.952201</td>\n",
       "      <td>0.213334</td>\n",
       "      <td>0.367288</td>\n",
       "    </tr>\n",
       "    <tr>\n",
       "      <th>std</th>\n",
       "      <td>12.071418</td>\n",
       "      <td>9.194597</td>\n",
       "      <td>12.820306</td>\n",
       "      <td>9.274223</td>\n",
       "      <td>0.486873</td>\n",
       "      <td>0.485964</td>\n",
       "      <td>0.157902</td>\n",
       "      <td>0.159564</td>\n",
       "      <td>13.675989</td>\n",
       "      <td>9.679278</td>\n",
       "      <td>...</td>\n",
       "      <td>14.738963</td>\n",
       "      <td>40.926476</td>\n",
       "      <td>1.564498</td>\n",
       "      <td>0.404882</td>\n",
       "      <td>0.221524</td>\n",
       "      <td>19.355460</td>\n",
       "      <td>30.947853</td>\n",
       "      <td>50.290539</td>\n",
       "      <td>0.409665</td>\n",
       "      <td>0.482070</td>\n",
       "    </tr>\n",
       "    <tr>\n",
       "      <th>min</th>\n",
       "      <td>20.000000</td>\n",
       "      <td>130.000000</td>\n",
       "      <td>30.000000</td>\n",
       "      <td>51.000000</td>\n",
       "      <td>0.100000</td>\n",
       "      <td>0.100000</td>\n",
       "      <td>1.000000</td>\n",
       "      <td>1.000000</td>\n",
       "      <td>71.000000</td>\n",
       "      <td>40.000000</td>\n",
       "      <td>...</td>\n",
       "      <td>4.000000</td>\n",
       "      <td>1.000000</td>\n",
       "      <td>4.900000</td>\n",
       "      <td>1.000000</td>\n",
       "      <td>0.100000</td>\n",
       "      <td>6.000000</td>\n",
       "      <td>1.000000</td>\n",
       "      <td>1.000000</td>\n",
       "      <td>0.000000</td>\n",
       "      <td>0.000000</td>\n",
       "    </tr>\n",
       "    <tr>\n",
       "      <th>25%</th>\n",
       "      <td>40.000000</td>\n",
       "      <td>160.000000</td>\n",
       "      <td>55.000000</td>\n",
       "      <td>76.000000</td>\n",
       "      <td>0.800000</td>\n",
       "      <td>0.800000</td>\n",
       "      <td>1.000000</td>\n",
       "      <td>1.000000</td>\n",
       "      <td>112.000000</td>\n",
       "      <td>70.000000</td>\n",
       "      <td>...</td>\n",
       "      <td>47.000000</td>\n",
       "      <td>92.000000</td>\n",
       "      <td>13.600000</td>\n",
       "      <td>1.000000</td>\n",
       "      <td>0.800000</td>\n",
       "      <td>19.000000</td>\n",
       "      <td>15.000000</td>\n",
       "      <td>17.000000</td>\n",
       "      <td>0.000000</td>\n",
       "      <td>0.000000</td>\n",
       "    </tr>\n",
       "    <tr>\n",
       "      <th>50%</th>\n",
       "      <td>40.000000</td>\n",
       "      <td>165.000000</td>\n",
       "      <td>65.000000</td>\n",
       "      <td>82.000000</td>\n",
       "      <td>1.000000</td>\n",
       "      <td>1.000000</td>\n",
       "      <td>1.000000</td>\n",
       "      <td>1.000000</td>\n",
       "      <td>120.000000</td>\n",
       "      <td>76.000000</td>\n",
       "      <td>...</td>\n",
       "      <td>55.000000</td>\n",
       "      <td>113.000000</td>\n",
       "      <td>14.800000</td>\n",
       "      <td>1.000000</td>\n",
       "      <td>0.900000</td>\n",
       "      <td>23.000000</td>\n",
       "      <td>21.000000</td>\n",
       "      <td>25.000000</td>\n",
       "      <td>0.000000</td>\n",
       "      <td>0.000000</td>\n",
       "    </tr>\n",
       "    <tr>\n",
       "      <th>75%</th>\n",
       "      <td>55.000000</td>\n",
       "      <td>170.000000</td>\n",
       "      <td>75.000000</td>\n",
       "      <td>88.000000</td>\n",
       "      <td>1.200000</td>\n",
       "      <td>1.200000</td>\n",
       "      <td>1.000000</td>\n",
       "      <td>1.000000</td>\n",
       "      <td>130.000000</td>\n",
       "      <td>82.000000</td>\n",
       "      <td>...</td>\n",
       "      <td>66.000000</td>\n",
       "      <td>136.000000</td>\n",
       "      <td>15.800000</td>\n",
       "      <td>1.000000</td>\n",
       "      <td>1.000000</td>\n",
       "      <td>28.000000</td>\n",
       "      <td>31.000000</td>\n",
       "      <td>43.000000</td>\n",
       "      <td>0.000000</td>\n",
       "      <td>1.000000</td>\n",
       "    </tr>\n",
       "    <tr>\n",
       "      <th>max</th>\n",
       "      <td>85.000000</td>\n",
       "      <td>190.000000</td>\n",
       "      <td>135.000000</td>\n",
       "      <td>129.000000</td>\n",
       "      <td>9.900000</td>\n",
       "      <td>9.900000</td>\n",
       "      <td>2.000000</td>\n",
       "      <td>2.000000</td>\n",
       "      <td>240.000000</td>\n",
       "      <td>146.000000</td>\n",
       "      <td>...</td>\n",
       "      <td>618.000000</td>\n",
       "      <td>1860.000000</td>\n",
       "      <td>21.100000</td>\n",
       "      <td>6.000000</td>\n",
       "      <td>11.600000</td>\n",
       "      <td>1311.000000</td>\n",
       "      <td>2914.000000</td>\n",
       "      <td>999.000000</td>\n",
       "      <td>1.000000</td>\n",
       "      <td>1.000000</td>\n",
       "    </tr>\n",
       "  </tbody>\n",
       "</table>\n",
       "<p>8 rows × 23 columns</p>\n",
       "</div>"
      ],
      "text/plain": [
       "                age    height(cm)    weight(kg)     waist(cm)  eyesight(left)  \\\n",
       "count  55692.000000  55692.000000  55692.000000  55692.000000    55692.000000   \n",
       "mean      44.182917    164.649321     65.864936     82.046418        1.012623   \n",
       "std       12.071418      9.194597     12.820306      9.274223        0.486873   \n",
       "min       20.000000    130.000000     30.000000     51.000000        0.100000   \n",
       "25%       40.000000    160.000000     55.000000     76.000000        0.800000   \n",
       "50%       40.000000    165.000000     65.000000     82.000000        1.000000   \n",
       "75%       55.000000    170.000000     75.000000     88.000000        1.200000   \n",
       "max       85.000000    190.000000    135.000000    129.000000        9.900000   \n",
       "\n",
       "       eyesight(right)  hearing(left)  hearing(right)      systolic  \\\n",
       "count     55692.000000   55692.000000    55692.000000  55692.000000   \n",
       "mean          1.007443       1.025587        1.026144    121.494218   \n",
       "std           0.485964       0.157902        0.159564     13.675989   \n",
       "min           0.100000       1.000000        1.000000     71.000000   \n",
       "25%           0.800000       1.000000        1.000000    112.000000   \n",
       "50%           1.000000       1.000000        1.000000    120.000000   \n",
       "75%           1.200000       1.000000        1.000000    130.000000   \n",
       "max           9.900000       2.000000        2.000000    240.000000   \n",
       "\n",
       "         relaxation  ...           HDL           LDL    hemoglobin  \\\n",
       "count  55692.000000  ...  55692.000000  55692.000000  55692.000000   \n",
       "mean      76.004830  ...     57.290347    114.964501     14.622592   \n",
       "std        9.679278  ...     14.738963     40.926476      1.564498   \n",
       "min       40.000000  ...      4.000000      1.000000      4.900000   \n",
       "25%       70.000000  ...     47.000000     92.000000     13.600000   \n",
       "50%       76.000000  ...     55.000000    113.000000     14.800000   \n",
       "75%       82.000000  ...     66.000000    136.000000     15.800000   \n",
       "max      146.000000  ...    618.000000   1860.000000     21.100000   \n",
       "\n",
       "       Urine protein  serum creatinine           AST           ALT  \\\n",
       "count   55692.000000      55692.000000  55692.000000  55692.000000   \n",
       "mean        1.087212          0.885738     26.182935     27.036037   \n",
       "std         0.404882          0.221524     19.355460     30.947853   \n",
       "min         1.000000          0.100000      6.000000      1.000000   \n",
       "25%         1.000000          0.800000     19.000000     15.000000   \n",
       "50%         1.000000          0.900000     23.000000     21.000000   \n",
       "75%         1.000000          1.000000     28.000000     31.000000   \n",
       "max         6.000000         11.600000   1311.000000   2914.000000   \n",
       "\n",
       "                Gtp  dental caries       smoking  \n",
       "count  55692.000000   55692.000000  55692.000000  \n",
       "mean      39.952201       0.213334      0.367288  \n",
       "std       50.290539       0.409665      0.482070  \n",
       "min        1.000000       0.000000      0.000000  \n",
       "25%       17.000000       0.000000      0.000000  \n",
       "50%       25.000000       0.000000      0.000000  \n",
       "75%       43.000000       0.000000      1.000000  \n",
       "max      999.000000       1.000000      1.000000  \n",
       "\n",
       "[8 rows x 23 columns]"
      ]
     },
     "execution_count": 227,
     "metadata": {},
     "output_type": "execute_result"
    }
   ],
   "source": [
    "smoking.describe()"
   ]
  },
  {
   "cell_type": "code",
   "execution_count": 228,
   "metadata": {},
   "outputs": [
    {
     "data": {
      "text/plain": [
       "smoking                1.000000\n",
       "hemoglobin             0.400678\n",
       "height(cm)             0.396675\n",
       "weight(kg)             0.302780\n",
       "triglyceride           0.251799\n",
       "Gtp                    0.236619\n",
       "waist(cm)              0.226259\n",
       "serum creatinine       0.216812\n",
       "relaxation             0.108309\n",
       "dental caries          0.103857\n",
       "fasting blood sugar    0.100279\n",
       "ALT                    0.097338\n",
       "systolic               0.073109\n",
       "eyesight(right)        0.063017\n",
       "eyesight(left)         0.061204\n",
       "AST                    0.059253\n",
       "Urine protein          0.014267\n",
       "hearing(right)        -0.018855\n",
       "hearing(left)         -0.023209\n",
       "Cholesterol           -0.028548\n",
       "LDL                   -0.045220\n",
       "age                   -0.162557\n",
       "HDL                   -0.178470\n",
       "Name: smoking, dtype: float64"
      ]
     },
     "execution_count": 228,
     "metadata": {},
     "output_type": "execute_result"
    }
   ],
   "source": [
    "smoking.corr()['smoking'].sort_values (ascending=False) "
   ]
  },
  {
   "cell_type": "code",
   "execution_count": 229,
   "metadata": {},
   "outputs": [
    {
     "data": {
      "text/plain": [
       "Y    55692\n",
       "Name: oral, dtype: int64"
      ]
     },
     "execution_count": 229,
     "metadata": {},
     "output_type": "execute_result"
    }
   ],
   "source": [
    "smoking['oral'].value_counts()\n",
    "#It going to be deleted"
   ]
  },
  {
   "cell_type": "code",
   "execution_count": 230,
   "metadata": {},
   "outputs": [
    {
     "data": {
      "text/plain": [
       "Y    30940\n",
       "N    24752\n",
       "Name: tartar, dtype: int64"
      ]
     },
     "execution_count": 230,
     "metadata": {},
     "output_type": "execute_result"
    }
   ],
   "source": [
    "smoking['tartar'].value_counts()\n",
    "#it needs encoding"
   ]
  },
  {
   "cell_type": "code",
   "execution_count": 231,
   "metadata": {},
   "outputs": [
    {
     "data": {
      "text/plain": [
       "M    35401\n",
       "F    20291\n",
       "Name: gender, dtype: int64"
      ]
     },
     "execution_count": 231,
     "metadata": {},
     "output_type": "execute_result"
    }
   ],
   "source": [
    "smoking['gender'].value_counts()\n",
    "#it needs encoding too"
   ]
  },
  {
   "cell_type": "code",
   "execution_count": 232,
   "metadata": {},
   "outputs": [
    {
     "data": {
      "image/png": "[encoded data removed]",
      "text/plain": [
       "<Figure size 720x1080 with 1 Axes>"
      ]
     },
     "metadata": {},
     "output_type": "display_data"
    }
   ],
   "source": [
    "plt.figure(figsize=(10, 15))\n",
    "data = smoking['gender'].value_counts()\n",
    "labels =['Male','Femal']\n",
    "\n",
    "#define Seaborn color palette to use\n",
    "colors = sns.color_palette('pastel')[0:5]\n",
    "\n",
    "#create pie chart\n",
    "plt.pie(data, labels = labels, colors = colors, autopct='%.0f%%')\n",
    "plt.show()"
   ]
  },
  {
   "cell_type": "code",
   "execution_count": 233,
   "metadata": {},
   "outputs": [
    {
     "data": {
      "text/plain": [
       "<AxesSubplot:>"
      ]
     },
     "execution_count": 233,
     "metadata": {},
     "output_type": "execute_result"
    },
    {
     "data": {
      "image/png": "[encoded data removed]",
      "text/plain": [
       "<Figure size 432x288 with 1 Axes>"
      ]
     },
     "metadata": {
      "needs_background": "light"
     },
     "output_type": "display_data"
    }
   ],
   "source": [
    "smoking['age'].hist()"
   ]
  },
  {
   "cell_type": "code",
   "execution_count": 234,
   "metadata": {},
   "outputs": [
    {
     "data": {
      "text/plain": [
       "<AxesSubplot:xlabel='smoking', ylabel='weight(kg)'>"
      ]
     },
     "execution_count": 234,
     "metadata": {},
     "output_type": "execute_result"
    },
    {
     "data": {
      "image/png": "[encoded data removed]",
      "text/plain": [
       "<Figure size 432x288 with 1 Axes>"
      ]
     },
     "metadata": {
      "needs_background": "light"
     },
     "output_type": "display_data"
    }
   ],
   "source": [
    "sns.scatterplot(data=smoking,x='smoking',y='weight(kg)')"
   ]
  },
  {
   "cell_type": "code",
   "execution_count": 235,
   "metadata": {},
   "outputs": [
    {
     "data": {
      "text/plain": [
       "<AxesSubplot:xlabel='smoking', ylabel='height(cm)'>"
      ]
     },
     "execution_count": 235,
     "metadata": {},
     "output_type": "execute_result"
    },
    {
     "data": {
      "image/png": "[encoded data removed]",
      "text/plain": [
       "<Figure size 432x288 with 1 Axes>"
      ]
     },
     "metadata": {
      "needs_background": "light"
     },
     "output_type": "display_data"
    }
   ],
   "source": [
    "sns.scatterplot(data=smoking,x='smoking',y='height(cm)')"
   ]
  },
  {
   "cell_type": "code",
   "execution_count": 236,
   "metadata": {},
   "outputs": [
    {
     "data": {
      "text/plain": [
       "<AxesSubplot:xlabel='age', ylabel='Count'>"
      ]
     },
     "execution_count": 236,
     "metadata": {},
     "output_type": "execute_result"
    },
    {
     "data": {
      "image/png": "[encoded data removed]",
      "text/plain": [
       "<Figure size 1440x720 with 1 Axes>"
      ]
     },
     "metadata": {
      "needs_background": "light"
     },
     "output_type": "display_data"
    }
   ],
   "source": [
    "f, ax = plt.subplots(figsize=(20,10))\n",
    "sns.histplot(x = smoking['age'],hue=smoking['smoking'],alpha=0.3)"
   ]
  },
  {
   "cell_type": "code",
   "execution_count": 237,
   "metadata": {},
   "outputs": [
    {
     "data": {
      "text/plain": [
       "<AxesSubplot:xlabel='smoking', ylabel='Urine protein'>"
      ]
     },
     "execution_count": 237,
     "metadata": {},
     "output_type": "execute_result"
    },
    {
     "data": {
      "image/png": "[encoded data removed]",
      "text/plain": [
       "<Figure size 432x288 with 1 Axes>"
      ]
     },
     "metadata": {
      "needs_background": "light"
     },
     "output_type": "display_data"
    }
   ],
   "source": [
    "sns.scatterplot(data=smoking,x='smoking',y='Urine protein')"
   ]
  },
  {
   "cell_type": "code",
   "execution_count": 238,
   "metadata": {},
   "outputs": [
    {
     "data": {
      "text/plain": [
       "<AxesSubplot:xlabel='smoking', ylabel='count'>"
      ]
     },
     "execution_count": 238,
     "metadata": {},
     "output_type": "execute_result"
    },
    {
     "data": {
      "image/png": "[encoded data removed]",
      "text/plain": [
       "<Figure size 720x360 with 1 Axes>"
      ]
     },
     "metadata": {
      "needs_background": "light"
     },
     "output_type": "display_data"
    }
   ],
   "source": [
    "f, ax = plt.subplots(figsize=(10,5))\n",
    "sns.countplot(x='smoking',data=smoking)"
   ]
  },
  {
   "cell_type": "code",
   "execution_count": 239,
   "metadata": {},
   "outputs": [
    {
     "data": {
      "image/png": "[encoded data removed]",
      "text/plain": [
       "<Figure size 360x720 with 1 Axes>"
      ]
     },
     "metadata": {},
     "output_type": "display_data"
    }
   ],
   "source": [
    "plt.figure(figsize=(5, 10))\n",
    "data = smoking['smoking'].value_counts()\n",
    "labels =['Non smokers','Smokers']\n",
    "\n",
    "#define Seaborn color palette to use\n",
    "colors = sns.color_palette('pastel')[0:5]\n",
    "\n",
    "#create pie chart\n",
    "plt.pie(data, labels = labels, colors = colors, autopct='%.0f%%')\n",
    "plt.show()"
   ]
  },
  {
   "cell_type": "code",
   "execution_count": 240,
   "metadata": {
    "scrolled": true
   },
   "outputs": [
    {
     "data": {
      "text/plain": [
       "<AxesSubplot:xlabel='smoking', ylabel='count'>"
      ]
     },
     "execution_count": 240,
     "metadata": {},
     "output_type": "execute_result"
    },
    {
     "data": {
      "image/png": "[encoded data removed]",
      "text/plain": [
       "<Figure size 432x288 with 1 Axes>"
      ]
     },
     "metadata": {
      "needs_background": "light"
     },
     "output_type": "display_data"
    }
   ],
   "source": [
    "sns.countplot(x = smoking['smoking'],hue=smoking['gender'])"
   ]
  },
  {
   "cell_type": "markdown",
   "metadata": {},
   "source": [
    "Non smokers are more likely to be females\n",
    " and the majority of smokers are males "
   ]
  },
  {
   "cell_type": "markdown",
   "metadata": {},
   "source": [
    "# Data Preperation"
   ]
  },
  {
   "cell_type": "code",
   "execution_count": 243,
   "metadata": {},
   "outputs": [],
   "source": [
    "X_train=X_train.drop([\"oral\",'ID'],axis=1)\n",
    "X_test=X_test.drop([\"oral\",'ID'],axis=1)"
   ]
  },
  {
   "cell_type": "code",
   "execution_count": 244,
   "metadata": {},
   "outputs": [],
   "source": [
    "from sklearn.preprocessing import OneHotEncoder\n",
    "def oneHot(df,column):\n",
    "    ohe = OneHotEncoder()\n",
    "    enc = ohe.fit_transform(df[[column]])\n",
    "    return enc.toarray()\n",
    "X_train['gender'] = oneHot(X_train,'gender')\n",
    "X_test['gender'] = oneHot(X_test,'gender')\n",
    "X_train['tartar'] = oneHot(X_train,'tartar')\n",
    "X_test['tartar'] = oneHot(X_test,'tartar')"
   ]
  },
  {
   "cell_type": "markdown",
   "metadata": {},
   "source": [
    "# Model Building"
   ]
  },
  {
   "cell_type": "code",
   "execution_count": 245,
   "metadata": {},
   "outputs": [],
   "source": [
    "from sklearn.metrics import accuracy_score,r2_score\n",
    "from sklearn.tree import DecisionTreeClassifier\n",
    "from sklearn.ensemble import RandomForestClassifier\n",
    "from sklearn.metrics import classification_report,confusion_matrix"
   ]
  },
  {
   "cell_type": "code",
   "execution_count": 246,
   "metadata": {},
   "outputs": [],
   "source": [
    "y_train = y_train['smoking']\n",
    "y_test = y_test['smoking']"
   ]
  },
  {
   "cell_type": "code",
   "execution_count": 247,
   "metadata": {},
   "outputs": [
    {
     "name": "stdout",
     "output_type": "stream",
     "text": [
      "Train Score  :  1.0\n",
      "Test Score  :  1.0\n",
      "Accuracy Score :  100.0\n",
      "confusion_matrix\n",
      " [[7036    0]\n",
      " [   1 4102]]\n",
      "classification_report  \n",
      "                precision    recall  f1-score   support\n",
      "\n",
      "           0       1.00      1.00      1.00      7036\n",
      "           1       1.00      1.00      1.00      4103\n",
      "\n",
      "    accuracy                           1.00     11139\n",
      "   macro avg       1.00      1.00      1.00     11139\n",
      "weighted avg       1.00      1.00      1.00     11139\n",
      "\n"
     ]
    }
   ],
   "source": [
    "DT = DecisionTreeClassifier()\n",
    "DT.fit(X_train, y_train)\n",
    "y_pred = DT.predict(X_test)\n",
    "print(\"Train Score  : \", DT.score(X_train,y_train))\n",
    "print(\"Test Score  : \", DT.score(X_test,y_test))\n",
    "print(\"Accuracy Score : \",accuracy_score(y_test,y_pred)*100)\n",
    "print(\"confusion_matrix\\n\",confusion_matrix(y_test,ypred))\n",
    "print(\"classification_report  \\n \",classification_report(y_test,ypred))"
   ]
  },
  {
   "cell_type": "code",
   "execution_count": 248,
   "metadata": {},
   "outputs": [
    {
     "name": "stdout",
     "output_type": "stream",
     "text": [
      "Train Score  :  1.0\n",
      "Test Score  :  1.0\n",
      "Accuracy Score :  100.0\n",
      "confusion_matrix   \n",
      " [[7036    0]\n",
      " [   0 4103]]\n",
      "classification_report\n",
      "                  precision    recall  f1-score   support\n",
      "\n",
      "           0       1.00      1.00      1.00      7036\n",
      "           1       1.00      1.00      1.00      4103\n",
      "\n",
      "    accuracy                           1.00     11139\n",
      "   macro avg       1.00      1.00      1.00     11139\n",
      "weighted avg       1.00      1.00      1.00     11139\n",
      "\n"
     ]
    }
   ],
   "source": [
    "rf = RandomForestClassifier(n_estimators=600)\n",
    "rf.fit(X_train, y_train)\n",
    "\n",
    "ypred = rf.predict(X_test)\n",
    "\n",
    "print(\"Train Score  : \", rf.score(X_train,y_train))\n",
    "print(\"Test Score  : \", rf.score(X_test,y_test))\n",
    "print(\"Accuracy Score : \",accuracy_score(y_test,ypred)*100)\n",
    "print(\"confusion_matrix   \\n\",confusion_matrix(y_test,ypred))\n",
    "print(\"classification_report\\n   \",classification_report(y_test,ypred))"
   ]
  },
  {
   "cell_type": "markdown",
   "metadata": {},
   "source": [
    "# 100% accaccurate "
   ]
  },
  {
   "cell_type": "code",
   "execution_count": null,
   "metadata": {},
   "outputs": [],
   "source": []
  }
 ],
 "metadata": {
  "kernelspec": {
   "display_name": "Python 3",
   "language": "python",
   "name": "python3"
  },
  "language_info": {
   "codemirror_mode": {
    "name": "ipython",
    "version": 3
   },
   "file_extension": ".py",
   "mimetype": "text/x-python",
   "name": "python",
   "nbconvert_exporter": "python",
   "pygments_lexer": "ipython3",
   "version": "3.8.5"
  }
 },
 "nbformat": 4,
 "nbformat_minor": 4
}
